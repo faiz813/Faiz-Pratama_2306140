{
  "nbformat": 4,
  "nbformat_minor": 0,
  "metadata": {
    "colab": {
      "provenance": []
    },
    "kernelspec": {
      "name": "python3",
      "display_name": "Python 3"
    },
    "language_info": {
      "name": "python"
    }
  },
  "cells": [
    {
      "cell_type": "markdown",
      "source": [
        "DFS"
      ],
      "metadata": {
        "id": "JUPj3kmOU0u2"
      }
    },
    {
      "cell_type": "code",
      "execution_count": null,
      "metadata": {
        "colab": {
          "base_uri": "https://localhost:8080/"
        },
        "id": "2UiJ18ClFnGz",
        "outputId": "a412fef8-5172-4e43-e377-bc48568fd517"
      },
      "outputs": [
        {
          "output_type": "stream",
          "name": "stdout",
          "text": [
            "Depth First Traversal mulai dari simpul (vertex) 1:\n",
            "1 2 3 4 5 6 "
          ]
        }
      ],
      "source": [
        "from collections import defaultdict\n",
        "\n",
        "class Graph:\n",
        "    def __init__(self):\n",
        "        self.graph = defaultdict(list)\n",
        "\n",
        "    def addEdge(self, u, v):\n",
        "        self.graph[u].append(v)\n",
        "\n",
        "    def DFSUtil(self, v, visited):\n",
        "        visited.add(v)\n",
        "        print(v, end=' ')\n",
        "\n",
        "        for neighbour in self.graph[v]:\n",
        "            if neighbour not in visited:\n",
        "                self.DFSUtil(neighbour, visited)\n",
        "\n",
        "    def DFS(self, v):\n",
        "        visited = set()\n",
        "        self.DFSUtil(v, visited)\n",
        "\n",
        "g = Graph()\n",
        "g.addEdge(1, 2)\n",
        "g.addEdge(1, 3)\n",
        "g.addEdge(1, 4)\n",
        "g.addEdge(1, 5)\n",
        "g.addEdge(1, 6)\n",
        "\n",
        "\n",
        "print(\"Depth First Traversal mulai dari simpul (vertex) 1:\")\n",
        "g.DFS(1)\n"
      ]
    },
    {
      "cell_type": "markdown",
      "source": [
        "BFS"
      ],
      "metadata": {
        "id": "fiGLNSuZV9P2"
      }
    },
    {
      "cell_type": "code",
      "source": [
        "from collections import defaultdict, deque\n",
        "\n",
        "class Graph:\n",
        "    def __init__(self):\n",
        "        self.graph = defaultdict(list)\n",
        "\n",
        "    def addEdge(self, u, v):\n",
        "        self.graph[u].append(v)\n",
        "\n",
        "    def BFS(self, start):\n",
        "        visited = set()\n",
        "        queue = deque([start])\n",
        "        visited.add(start)\n",
        "\n",
        "        while queue:\n",
        "            vertex = queue.popleft()\n",
        "            print(vertex, end=' ')\n",
        "\n",
        "            for neighbor in self.graph[vertex]:\n",
        "                if neighbor not in visited:\n",
        "                    visited.add(neighbor)\n",
        "                    queue.append(neighbor)\n",
        "\n",
        "\n",
        "g_d = Graph()\n",
        "g_d.addEdge(2, 1)\n",
        "g_d.addEdge(1, 3)\n",
        "g_d.addEdge(3, 4)\n",
        "g_d.addEdge(4, 5)\n",
        "\n",
        "\n",
        "\n",
        "print(\"\\n\\nBFS graf (d) dari node 2:\")\n",
        "g_d.BFS(2)\n"
      ],
      "metadata": {
        "colab": {
          "base_uri": "https://localhost:8080/"
        },
        "id": "VuiysnOUV_JP",
        "outputId": "2fb076aa-7fd4-463e-fa17-fc4e90e861db"
      },
      "execution_count": null,
      "outputs": [
        {
          "output_type": "stream",
          "name": "stdout",
          "text": [
            "\n",
            "\n",
            "BFS graf (d) dari node 2:\n",
            "2 1 3 4 5 "
          ]
        }
      ]
    },
    {
      "cell_type": "markdown",
      "source": [
        "Greedy Best-First Search dan A* Search\n",
        "\n"
      ],
      "metadata": {
        "id": "7514mQ7EeIEL"
      }
    },
    {
      "cell_type": "code",
      "source": [
        "from queue import PriorityQueue\n",
        "\n",
        "def reconstruct_path(path, start, goal):\n",
        "    current = goal\n",
        "    route = [current]\n",
        "    while current != start:\n",
        "        current = path[current]\n",
        "        route.append(current)\n",
        "    route.reverse()\n",
        "    return route\n",
        "\n",
        "def greedy_search(graph, start, goal, heuristic):\n",
        "    frontier = PriorityQueue()\n",
        "    frontier.put((heuristic[start], start))\n",
        "    explored = set()\n",
        "    path = {}\n",
        "\n",
        "    while not frontier.empty():\n",
        "        _, current = frontier.get()\n",
        "\n",
        "        if current == goal:\n",
        "            return reconstruct_path(path, start, goal)\n",
        "\n",
        "        explored.add(current)\n",
        "\n",
        "        for neighbor, _ in graph[current]:\n",
        "            if neighbor not in explored and neighbor not in path:\n",
        "                frontier.put((heuristic[neighbor], neighbor))\n",
        "                path[neighbor] = current\n",
        "\n",
        "    return None\n",
        "\n",
        "def a_star_search(graph, start, goal, heuristic):\n",
        "    frontier = PriorityQueue()\n",
        "    frontier.put((heuristic[start], 0, start))\n",
        "    path = {}\n",
        "    cost_so_far = {start: 0}\n",
        "\n",
        "    while not frontier.empty():\n",
        "        _, cost, current = frontier.get()\n",
        "\n",
        "        if current == goal:\n",
        "            return reconstruct_path(path, start, goal), cost_so_far[goal]\n",
        "\n",
        "        for neighbor, step_cost in graph[current]:\n",
        "            new_cost = cost_so_far[current] + step_cost\n",
        "            if neighbor not in cost_so_far or new_cost < cost_so_far[neighbor]:\n",
        "                cost_so_far[neighbor] = new_cost\n",
        "                priority = new_cost + heuristic[neighbor]\n",
        "                frontier.put((priority, new_cost, neighbor))\n",
        "                path[neighbor] = current\n",
        "\n",
        "    return None, float('inf')\n",
        "\n",
        "graph_a = {\n",
        "    'A': [('B', 1), ('C', 4)],\n",
        "    'B': [('D', 2)],\n",
        "    'C': [('E', 5)],\n",
        "    'D': [('F', 5)],\n",
        "    'E': [('F', 1)],\n",
        "    'F': [('G', 2)],\n",
        "    'G': []\n",
        "}\n",
        "heuristic_a = {\n",
        "    'A': 7, 'B': 6, 'C': 5,\n",
        "    'D': 4, 'E': 3, 'F': 2, 'G': 0\n",
        "}\n",
        "\n",
        "graph_b = {\n",
        "    'S': [('A', 2), ('B', 3)],\n",
        "    'A': [('D', 2), ('C', 4)],\n",
        "    'B': [('E', 6)],\n",
        "    'C': [('G', 3)],\n",
        "    'D': [('G', 4)],\n",
        "    'E': [('G', 1)],\n",
        "    'G': []\n",
        "}\n",
        "heuristic_b = {\n",
        "    'S': 7, 'A': 6, 'B': 5,\n",
        "    'C': 2, 'D': 3, 'E': 4, 'G': 0\n",
        "}\n",
        "\n",
        "\n",
        "graph_c = {\n",
        "    'S': [('A', 2), ('B', 3)],\n",
        "    'A': [('D', 2)],\n",
        "    'B': [('E', 4)],\n",
        "    'D': [('F', 3)],\n",
        "    'E': [('F', 1)],\n",
        "    'F': [('G', 2)],\n",
        "    'G': []\n",
        "}\n",
        "heuristic_c = {\n",
        "    'S': 6, 'A': 5, 'B': 5,\n",
        "    'D': 3, 'E': 3, 'F': 1, 'G': 0\n",
        "}\n",
        "\n",
        "\n",
        "graph = graph_a\n",
        "heuristic = heuristic_a\n",
        "start = 'A'\n",
        "goal = 'G'\n",
        "\n",
        "greedy_result = greedy_search(graph, start, goal, heuristic)\n",
        "print(\"Greedy Best-First Search path:\", greedy_result)\n"
      ],
      "metadata": {
        "colab": {
          "base_uri": "https://localhost:8080/"
        },
        "id": "fY4_gqT8eQsP",
        "outputId": "4aed0386-77ce-4d73-ce0a-58ea32045451"
      },
      "execution_count": null,
      "outputs": [
        {
          "output_type": "stream",
          "name": "stdout",
          "text": [
            "Greedy Best-First Search path: ['A', 'C', 'E', 'F', 'G']\n"
          ]
        }
      ]
    },
    {
      "cell_type": "markdown",
      "source": [
        "Sistem Pakar tentang gejala penyakit"
      ],
      "metadata": {
        "id": "q-lPDHrwfanT"
      }
    },
    {
      "cell_type": "code",
      "source": [
        "import collections\n",
        "import collections.abc\n",
        "collections.Mapping = collections.abc.Mapping\n",
        "\n",
        "from experta import *\n"
      ],
      "metadata": {
        "id": "MzHbdhzchxx0"
      },
      "execution_count": 25,
      "outputs": []
    },
    {
      "cell_type": "code",
      "source": [
        "from experta import *\n",
        "\n",
        "class Gejala(Fact):\n",
        "    pass\n",
        "\n",
        "class DiagnosaPenyakit(KnowledgeEngine):\n",
        "    @Rule(AND(Gejala(gejala='Demam'),\n",
        "              Gejala(gejala='Lelah'),\n",
        "              Gejala(gejala='Leher Bengkak'),\n",
        "              Gejala(gejala='Mulut Kering')))\n",
        "    def gondongan(self):\n",
        "        print(\"Diagnosis: Anda kemungkinan mengalami *Gondongan*.\")\n",
        "\n",
        "    @Rule(AND(Gejala(gejala='Sakit Perut'),\n",
        "              Gejala(gejala='Diare'),\n",
        "              Gejala(gejala='Kram'),\n",
        "              Gejala(gejala='Mual')))\n",
        "    def ibs(self):\n",
        "        print(\"Diagnosis: Anda kemungkinan mengalami *IBS (Irritable Bowel Syndrome)*.\")\n",
        "\n",
        "    @Rule(AND(Gejala(gejala='Mual'),\n",
        "              Gejala(gejala='Kembung'),\n",
        "              Gejala(gejala='Sendawa'),\n",
        "              Gejala(gejala='Sakit Tenggorokan')))\n",
        "    def gerd(self):\n",
        "        print(\"Diagnosis: Anda kemungkinan mengalami *GERD (Gastroesophageal Reflux Disease)*.\")\n",
        "\n",
        "def masukkan_gejala():\n",
        "    gejala_input = []\n",
        "    print(\"Masukkan gejala yang Anda alami (pisahkan dengan koma):\")\n",
        "    print(\"Pilihan: Demam, Lelah, Leher Bengkak, Mulut Kering, Sakit Perut, Diare, Kram, Mual, Kembung, Sendawa, Sakit Tenggorokan\")\n",
        "    input_user = input(\"Gejala: \")\n",
        "    gejala_input = [g.strip().title() for g in input_user.split(',')]\n",
        "    return gejala_input\n",
        "\n",
        "# Jalankan sistem pakar\n",
        "engine = DiagnosaPenyakit()\n",
        "engine.reset()\n",
        "gejala_pasien = masukkan_gejala()\n",
        "for g in gejala_pasien:\n",
        "    engine.declare(Gejala(gejala=g))\n",
        "engine.run()\n"
      ],
      "metadata": {
        "colab": {
          "base_uri": "https://localhost:8080/"
        },
        "id": "XdYZ8wVFh2BH",
        "outputId": "9daa173f-3028-416d-cb91-8f8e8de76a4a"
      },
      "execution_count": 33,
      "outputs": [
        {
          "output_type": "stream",
          "name": "stdout",
          "text": [
            "Masukkan gejala yang Anda alami (pisahkan dengan koma):\n",
            "Pilihan: Demam, Lelah, Leher Bengkak, Mulut Kering, Sakit Perut, Diare, Kram, Mual, Kembung, Sendawa, Sakit Tenggorokan\n",
            "Gejala: Mual, Kembung, Sendawa, Sakit Tenggorokan\n",
            "Diagnosis: Anda kemungkinan mengalami *GERD (Gastroesophageal Reflux Disease)*.\n"
          ]
        }
      ]
    }
  ]
}