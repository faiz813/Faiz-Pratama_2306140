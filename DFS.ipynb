{
  "cells": [
    {
      "cell_type": "code",
      "source": [
        "# Python3 program to print DFS traversal\n",
        "# from a given graph\n",
        "from collections import defaultdict\n",
        "\n",
        "# Kelas ini merepresentasikan sebuah graf yang diarahkan\n",
        "# menggunakan representasi daftar kejadian\n",
        "class Graph:\n",
        "\n",
        "    # Konstruktor\n",
        "    def __init__(self): # Changed _init_ to __init__\n",
        "        # Kamus default untuk menyimpan graf\n",
        "        self.graph = defaultdict(list)\n",
        "\n",
        "    # Fungsi untuk menambahkan tepi ke graf\n",
        "    def addEdge(self, u, v):\n",
        "        self.graph[u].append(v)\n",
        "\n",
        "    # Fungsi yang digunakan oleh DFS\n",
        "    def DFSUtil(self, v, visited):\n",
        "        # Tandai node saat ini sebagai sudah dikunjungi\n",
        "        # dan cetak\n",
        "        visited.add(v)\n",
        "        print(v, end=' ')\n",
        "\n",
        "        # Panggil rekursif untuk semua titik ujung\n",
        "        # yang berdekatan dengan titik ini\n",
        "        for neighbour in self.graph[v]:\n",
        "            if neighbour not in visited:\n",
        "                self.DFSUtil(neighbour, visited)\n",
        "\n",
        "    # Fungsi untuk melakukan penelusuran DFS. Ini menggunakan\n",
        "    # DFSUtil() rekursif\n",
        "    def DFS(self, v):\n",
        "        # Buat himpunan untuk menyimpan node yang sudah dikunjungi\n",
        "        visited = set()\n",
        "\n",
        "        # Panggil fungsi bantu rekursif\n",
        "        # untuk mencetak penelusuran DFS\n",
        "        self.DFSUtil(v, visited)\n",
        "\n",
        "\n",
        "# Kode pengguna\n",
        "#The condition below will always evaluate to True in a Jupyter notebook or IPython environment.\n",
        "if __name__ == \"__main__\": # Changed _name_ to __name__\n",
        "    g = Graph()\n",
        "    g.addEdge(0, 1)\n",
        "    g.addEdge(0, 2)\n",
        "    g.addEdge(1, 2)\n",
        "    g.addEdge(2, 0)\n",
        "    g.addEdge(2, 3)\n",
        "    g.addEdge(3, 3)\n",
        "\n",
        "    print(\"Berikut adalah Penelusuran Depth First (dimulai dari node 2):\")\n",
        "\n",
        "    # Panggilan fungsi\n",
        "    g.DFS(2)"
      ],
      "metadata": {
        "id": "R9qkbsbVwpqU",
        "outputId": "64134153-5fad-42f5-cf70-cb279c391d9f",
        "colab": {
          "base_uri": "https://localhost:8080/"
        }
      },
      "execution_count": 2,
      "outputs": [
        {
          "output_type": "stream",
          "name": "stdout",
          "text": [
            "Berikut adalah Penelusuran Depth First (dimulai dari node 2):\n",
            "2 0 1 3 "
          ]
        }
      ]
    }
  ],
  "metadata": {
    "colab": {
      "name": "Selamat Datang di Colaboratory",
      "provenance": []
    },
    "kernelspec": {
      "display_name": "Python 3",
      "name": "python3"
    }
  },
  "nbformat": 4,
  "nbformat_minor": 0
}