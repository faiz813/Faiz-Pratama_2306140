{
  "cells": [
    {
      "cell_type": "code",
      "source": [
        "#BFS algorithm in python.\n",
        "\n",
        "import collections\n",
        "\n",
        "#BFS algorithm\n",
        "def bfs(graph, root):\n",
        "\n",
        "  visited, queue = set(), collections.deque([root])\n",
        "  visited.add(root)\n",
        "\n",
        "  while queue:\n",
        "\n",
        "    #dequeue a vertex from queue\n",
        "    vertex = queue.popleft()\n",
        "    print(str(vertex) + \" \", end=\"\")\n",
        "\n",
        "    #if not visited, mark it is visited, and enqueue it\n",
        "    for neighbour in graph[vertex]:\n",
        "      if neighbour not in visited:\n",
        "        visited.add(neighbour)\n",
        "        queue.append(neighbour)\n",
        "\n",
        "# Corrected the condition to check for '__name__' instead of '_name_'\n",
        "if __name__ == '__main__':\n",
        "  graph = {0: [1,2], 1: [2], 2: [3], 3: [1,2]}\n",
        "  print(\"following is Breadth first traversal\")\n",
        "  bfs(graph, 0)"
      ],
      "metadata": {
        "colab": {
          "base_uri": "https://localhost:8080/"
        },
        "id": "RIfsumldyIlK",
        "outputId": "a4eeb8bd-2bde-4bc4-d2f4-7610b86ac1af"
      },
      "execution_count": 5,
      "outputs": [
        {
          "output_type": "stream",
          "name": "stdout",
          "text": [
            "following is Breadth first traversal\n",
            "0 1 2 3 "
          ]
        }
      ]
    }
  ],
  "metadata": {
    "colab": {
      "name": "Selamat Datang di Colaboratory",
      "provenance": []
    },
    "kernelspec": {
      "display_name": "Python 3",
      "name": "python3"
    }
  },
  "nbformat": 4,
  "nbformat_minor": 0
}